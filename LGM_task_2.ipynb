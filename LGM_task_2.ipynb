{
  "nbformat": 4,
  "nbformat_minor": 0,
  "metadata": {
    "colab": {
      "name": "LGM_task#2.ipynb",
      "provenance": []
    },
    "kernelspec": {
      "name": "python3",
      "display_name": "Python 3"
    },
    "language_info": {
      "name": "python"
    }
  },
  "cells": [
    {
      "cell_type": "code",
      "metadata": {
        "colab": {
          "base_uri": "https://localhost:8080/",
          "height": 204
        },
        "id": "vDyiHr4JUzwL",
        "outputId": "dd575e59-7a15-40b4-e873-693e180502d9"
      },
      "source": [
        "#Reading the dataset\n",
        "import pandas as pd\n",
        "df=pd.read_csv('NSE_TATAGLOBAL.csv')\n",
        "df.head(10)\n",
        "#Sorting the data date wise\n",
        "dff=df. iloc[::-1]\n",
        "dff.head()"
      ],
      "execution_count": 2,
      "outputs": [
        {
          "output_type": "execute_result",
          "data": {
            "text/html": [
              "<div>\n",
              "<style scoped>\n",
              "    .dataframe tbody tr th:only-of-type {\n",
              "        vertical-align: middle;\n",
              "    }\n",
              "\n",
              "    .dataframe tbody tr th {\n",
              "        vertical-align: top;\n",
              "    }\n",
              "\n",
              "    .dataframe thead th {\n",
              "        text-align: right;\n",
              "    }\n",
              "</style>\n",
              "<table border=\"1\" class=\"dataframe\">\n",
              "  <thead>\n",
              "    <tr style=\"text-align: right;\">\n",
              "      <th></th>\n",
              "      <th>Date</th>\n",
              "      <th>Open</th>\n",
              "      <th>High</th>\n",
              "      <th>Low</th>\n",
              "      <th>Last</th>\n",
              "      <th>Close</th>\n",
              "      <th>Total Trade Quantity</th>\n",
              "      <th>Turnover (Lacs)</th>\n",
              "    </tr>\n",
              "  </thead>\n",
              "  <tbody>\n",
              "    <tr>\n",
              "      <th>2034</th>\n",
              "      <td>2010-07-21</td>\n",
              "      <td>122.1</td>\n",
              "      <td>123.00</td>\n",
              "      <td>121.05</td>\n",
              "      <td>121.10</td>\n",
              "      <td>121.55</td>\n",
              "      <td>658666</td>\n",
              "      <td>803.56</td>\n",
              "    </tr>\n",
              "    <tr>\n",
              "      <th>2033</th>\n",
              "      <td>2010-07-22</td>\n",
              "      <td>120.3</td>\n",
              "      <td>122.00</td>\n",
              "      <td>120.25</td>\n",
              "      <td>120.75</td>\n",
              "      <td>120.90</td>\n",
              "      <td>293312</td>\n",
              "      <td>355.17</td>\n",
              "    </tr>\n",
              "    <tr>\n",
              "      <th>2032</th>\n",
              "      <td>2010-07-23</td>\n",
              "      <td>121.8</td>\n",
              "      <td>121.95</td>\n",
              "      <td>120.25</td>\n",
              "      <td>120.35</td>\n",
              "      <td>120.65</td>\n",
              "      <td>281312</td>\n",
              "      <td>340.31</td>\n",
              "    </tr>\n",
              "    <tr>\n",
              "      <th>2031</th>\n",
              "      <td>2010-07-26</td>\n",
              "      <td>120.1</td>\n",
              "      <td>121.00</td>\n",
              "      <td>117.10</td>\n",
              "      <td>117.10</td>\n",
              "      <td>117.60</td>\n",
              "      <td>658440</td>\n",
              "      <td>780.01</td>\n",
              "    </tr>\n",
              "    <tr>\n",
              "      <th>2030</th>\n",
              "      <td>2010-07-27</td>\n",
              "      <td>117.6</td>\n",
              "      <td>119.50</td>\n",
              "      <td>112.00</td>\n",
              "      <td>118.80</td>\n",
              "      <td>118.65</td>\n",
              "      <td>586100</td>\n",
              "      <td>694.98</td>\n",
              "    </tr>\n",
              "  </tbody>\n",
              "</table>\n",
              "</div>"
            ],
            "text/plain": [
              "            Date   Open    High  ...   Close  Total Trade Quantity  Turnover (Lacs)\n",
              "2034  2010-07-21  122.1  123.00  ...  121.55                658666           803.56\n",
              "2033  2010-07-22  120.3  122.00  ...  120.90                293312           355.17\n",
              "2032  2010-07-23  121.8  121.95  ...  120.65                281312           340.31\n",
              "2031  2010-07-26  120.1  121.00  ...  117.60                658440           780.01\n",
              "2030  2010-07-27  117.6  119.50  ...  118.65                586100           694.98\n",
              "\n",
              "[5 rows x 8 columns]"
            ]
          },
          "metadata": {},
          "execution_count": 2
        }
      ]
    },
    {
      "cell_type": "code",
      "metadata": {
        "colab": {
          "base_uri": "https://localhost:8080/"
        },
        "id": "qq_kv_YwZsQH",
        "outputId": "64a88908-7bad-4978-c1a0-056cf5625afe"
      },
      "source": [
        "#Taking High value in d1\n",
        "dd=dff.reset_index()['High']\n",
        "dd.head()"
      ],
      "execution_count": 3,
      "outputs": [
        {
          "output_type": "execute_result",
          "data": {
            "text/plain": [
              "0    123.00\n",
              "1    122.00\n",
              "2    121.95\n",
              "3    121.00\n",
              "4    119.50\n",
              "Name: High, dtype: float64"
            ]
          },
          "metadata": {},
          "execution_count": 3
        }
      ]
    },
    {
      "cell_type": "code",
      "metadata": {
        "colab": {
          "base_uri": "https://localhost:8080/",
          "height": 282
        },
        "id": "Pq0WR1gpZu7l",
        "outputId": "9aa480c8-a16f-4456-8b12-a2ad84f4ad7c"
      },
      "source": [
        "#Plotting Stock price w.r.t High\n",
        "import matplotlib.pyplot as plt\n",
        "plt.plot(dd)"
      ],
      "execution_count": 4,
      "outputs": [
        {
          "output_type": "execute_result",
          "data": {
            "text/plain": [
              "[<matplotlib.lines.Line2D at 0x7facd5ccb550>]"
            ]
          },
          "metadata": {},
          "execution_count": 4
        },
        {
          "output_type": "display_data",
          "data": {
            "image/png": "[encoded data removed]",
            "text/plain": [
              "<Figure size 432x288 with 1 Axes>"
            ]
          },
          "metadata": {
            "needs_background": "light"
          }
        }
      ]
    },
    {
      "cell_type": "code",
      "metadata": {
        "colab": {
          "base_uri": "https://localhost:8080/"
        },
        "id": "mWrgVTYBZzUF",
        "outputId": "33206cde-e74c-4ace-f508-fdba6f557d23"
      },
      "source": [
        "#Applying Minmax scaler to transform values of high into 0 to 1\n",
        "import numpy as np\n",
        "from sklearn.preprocessing import MinMaxScaler\n",
        "sc=MinMaxScaler(feature_range=(0,1))\n",
        "dd=sc.fit_transform(np.array(dd).reshape(-1,1))\n",
        "dd\n",
        "#Now d1 is converted into array having value between 0 and 1"
      ],
      "execution_count": 5,
      "outputs": [
        {
          "output_type": "execute_result",
          "data": {
            "text/plain": [
              "array([[0.16344786],\n",
              "       [0.15938199],\n",
              "       [0.15917869],\n",
              "       ...,\n",
              "       [0.6391543 ],\n",
              "       [0.62614353],\n",
              "       [0.62268754]])"
            ]
          },
          "metadata": {},
          "execution_count": 5
        }
      ]
    },
    {
      "cell_type": "code",
      "metadata": {
        "colab": {
          "base_uri": "https://localhost:8080/"
        },
        "id": "XruJqrSHZ3zo",
        "outputId": "e204a160-9c50-454d-d63e-7b812b0c77aa"
      },
      "source": [
        "#Splitting dataset into train and test split\n",
        "train_size=int(len(dd)*0.65) #training size will be 65% of total size of dataset.\n",
        "test_size=len(dd)-train_size #test size=35%\n",
        "train_size,test_size"
      ],
      "execution_count": 6,
      "outputs": [
        {
          "output_type": "execute_result",
          "data": {
            "text/plain": [
              "(1322, 713)"
            ]
          },
          "metadata": {},
          "execution_count": 6
        }
      ]
    },
    {
      "cell_type": "code",
      "metadata": {
        "colab": {
          "base_uri": "https://localhost:8080/"
        },
        "id": "PAuzRYFUaMei",
        "outputId": "3debd799-b349-4418-fae7-6ae2ad5eab40"
      },
      "source": [
        "train_data,test_data=dd[0:train_size,:],dd[train_size:len(dd),:1]\n",
        "len(train_data),len(test_data)"
      ],
      "execution_count": 7,
      "outputs": [
        {
          "output_type": "execute_result",
          "data": {
            "text/plain": [
              "(1322, 713)"
            ]
          },
          "metadata": {},
          "execution_count": 7
        }
      ]
    },
    {
      "cell_type": "code",
      "metadata": {
        "id": "UPJePnWEaVh9"
      },
      "source": [
        "import numpy\n",
        "# convert the array of values into a dataset matrix\n",
        "def crDataset(dataset,time_step=1):\n",
        "  dataX,dataY=[],[]\n",
        "  for i in range (len(dataset)-time_step-1):\n",
        "    val=dataset[i:(i+time_step),0]\n",
        "    dataX.append(val)\n",
        "    dataY.append(dataset[i+time_step,0])\n",
        "  return numpy.array(dataX),numpy.array(dataY)"
      ],
      "execution_count": 9,
      "outputs": []
    },
    {
      "cell_type": "code",
      "metadata": {
        "id": "5Bo6qW2dagxh"
      },
      "source": [
        "#reshaping into x_train and y_train\n",
        "time_step=100\n",
        "x_train, y_train = crDataset(train_data,time_step)\n",
        "x_test, y_test =  crDataset(test_data,time_step)"
      ],
      "execution_count": 10,
      "outputs": []
    },
    {
      "cell_type": "code",
      "metadata": {
        "colab": {
          "base_uri": "https://localhost:8080/"
        },
        "id": "g4gElKUBaiGE",
        "outputId": "23385139-558f-412e-a938-11e04510da2e"
      },
      "source": [
        "print(x_train.shape),print(y_train.shape)"
      ],
      "execution_count": 11,
      "outputs": [
        {
          "output_type": "stream",
          "text": [
            "(1221, 100)\n",
            "(1221,)\n"
          ],
          "name": "stdout"
        },
        {
          "output_type": "execute_result",
          "data": {
            "text/plain": [
              "(None, None)"
            ]
          },
          "metadata": {},
          "execution_count": 11
        }
      ]
    },
    {
      "cell_type": "code",
      "metadata": {
        "id": "EwBuoNtIalY-"
      },
      "source": [
        "#reshaping x_train and x_test into three dimension which is required for LSTM.\n",
        "#input be like [samples,time steps,features]\n",
        "x_train=x_train.reshape(x_train.shape[0],x_train.shape[1],1)\n",
        "x_test=x_test.reshape(x_test.shape[0],x_test.shape[1],1)"
      ],
      "execution_count": 12,
      "outputs": []
    },
    {
      "cell_type": "code",
      "metadata": {
        "id": "Cri-6-Eua3Ar"
      },
      "source": [
        "#Creating stacked LSTM model\n",
        "from tensorflow.keras.models import Sequential\n",
        "from tensorflow.keras.layers import Dense\n",
        "from tensorflow.keras.layers import LSTM\n",
        "model=Sequential()\n",
        "model.add(LSTM(50,return_sequences=True,input_shape=(100,1)))\n",
        "model.add(LSTM(50,return_sequences=True))\n",
        "model.add(LSTM(50))\n",
        "model.add(Dense(1))\n",
        "model.compile(loss='mean_squared_error',optimizer='adam')"
      ],
      "execution_count": 13,
      "outputs": []
    },
    {
      "cell_type": "code",
      "metadata": {
        "colab": {
          "base_uri": "https://localhost:8080/"
        },
        "id": "t7ldaZhRa9GZ",
        "outputId": "d848ab35-e882-4af5-ddc2-c7f6bae41681"
      },
      "source": [
        "model.summary()"
      ],
      "execution_count": 14,
      "outputs": [
        {
          "output_type": "stream",
          "text": [
            "Model: \"sequential\"\n",
            "_________________________________________________________________\n",
            "Layer (type)                 Output Shape              Param #   \n",
            "=================================================================\n",
            "lstm (LSTM)                  (None, 100, 50)           10400     \n",
            "_________________________________________________________________\n",
            "lstm_1 (LSTM)                (None, 100, 50)           20200     \n",
            "_________________________________________________________________\n",
            "lstm_2 (LSTM)                (None, 50)                20200     \n",
            "_________________________________________________________________\n",
            "dense (Dense)                (None, 1)                 51        \n",
            "=================================================================\n",
            "Total params: 50,851\n",
            "Trainable params: 50,851\n",
            "Non-trainable params: 0\n",
            "_________________________________________________________________\n"
          ],
          "name": "stdout"
        }
      ]
    },
    {
      "cell_type": "code",
      "metadata": {
        "colab": {
          "base_uri": "https://localhost:8080/"
        },
        "id": "O2p7vnSXbFpn",
        "outputId": "e3f0bc67-200f-4589-8ecb-a4a4c08152d0"
      },
      "source": [
        "model.fit(x_train,y_train,validation_data=(x_test,y_test),epochs=100,batch_size=64,verbose=1)"
      ],
      "execution_count": 15,
      "outputs": [
        {
          "output_type": "stream",
          "text": [
            "Epoch 1/100\n",
            "20/20 [==============================] - 11s 265ms/step - loss: 0.0098 - val_loss: 0.0178\n",
            "Epoch 2/100\n",
            "20/20 [==============================] - 4s 213ms/step - loss: 0.0018 - val_loss: 0.0047\n",
            "Epoch 3/100\n",
            "20/20 [==============================] - 4s 214ms/step - loss: 9.0634e-04 - val_loss: 0.0040\n",
            "Epoch 4/100\n",
            "20/20 [==============================] - 4s 210ms/step - loss: 9.0668e-04 - val_loss: 0.0042\n",
            "Epoch 5/100\n",
            "20/20 [==============================] - 4s 206ms/step - loss: 7.9225e-04 - val_loss: 0.0037\n",
            "Epoch 6/100\n",
            "20/20 [==============================] - 4s 207ms/step - loss: 7.8042e-04 - val_loss: 0.0044\n",
            "Epoch 7/100\n",
            "20/20 [==============================] - 4s 207ms/step - loss: 7.5171e-04 - val_loss: 0.0031\n",
            "Epoch 8/100\n",
            "20/20 [==============================] - 4s 201ms/step - loss: 7.1129e-04 - val_loss: 0.0062\n",
            "Epoch 9/100\n",
            "20/20 [==============================] - 4s 207ms/step - loss: 8.1128e-04 - val_loss: 0.0055\n",
            "Epoch 10/100\n",
            "20/20 [==============================] - 4s 213ms/step - loss: 7.2188e-04 - val_loss: 0.0035\n",
            "Epoch 11/100\n",
            "20/20 [==============================] - 4s 212ms/step - loss: 6.5993e-04 - val_loss: 0.0018\n",
            "Epoch 12/100\n",
            "20/20 [==============================] - 4s 203ms/step - loss: 6.7418e-04 - val_loss: 0.0022\n",
            "Epoch 13/100\n",
            "20/20 [==============================] - 4s 210ms/step - loss: 6.5391e-04 - val_loss: 0.0018\n",
            "Epoch 14/100\n",
            "20/20 [==============================] - 4s 213ms/step - loss: 7.9527e-04 - val_loss: 0.0023\n",
            "Epoch 15/100\n",
            "20/20 [==============================] - 4s 212ms/step - loss: 6.5637e-04 - val_loss: 0.0055\n",
            "Epoch 16/100\n",
            "20/20 [==============================] - 4s 215ms/step - loss: 6.0268e-04 - val_loss: 0.0048\n",
            "Epoch 17/100\n",
            "20/20 [==============================] - 4s 216ms/step - loss: 6.0044e-04 - val_loss: 0.0048\n",
            "Epoch 18/100\n",
            "20/20 [==============================] - 4s 210ms/step - loss: 5.5066e-04 - val_loss: 0.0060\n",
            "Epoch 19/100\n",
            "20/20 [==============================] - 4s 210ms/step - loss: 5.6055e-04 - val_loss: 0.0071\n",
            "Epoch 20/100\n",
            "20/20 [==============================] - 4s 209ms/step - loss: 5.6236e-04 - val_loss: 0.0071\n",
            "Epoch 21/100\n",
            "20/20 [==============================] - 4s 212ms/step - loss: 5.2524e-04 - val_loss: 0.0059\n",
            "Epoch 22/100\n",
            "20/20 [==============================] - 4s 210ms/step - loss: 5.1730e-04 - val_loss: 0.0066\n",
            "Epoch 23/100\n",
            "20/20 [==============================] - 4s 215ms/step - loss: 5.1153e-04 - val_loss: 0.0065\n",
            "Epoch 24/100\n",
            "20/20 [==============================] - 4s 198ms/step - loss: 5.0283e-04 - val_loss: 0.0031\n",
            "Epoch 25/100\n",
            "20/20 [==============================] - 4s 206ms/step - loss: 5.1683e-04 - val_loss: 0.0062\n",
            "Epoch 26/100\n",
            "20/20 [==============================] - 4s 203ms/step - loss: 4.6503e-04 - val_loss: 0.0037\n",
            "Epoch 27/100\n",
            "20/20 [==============================] - 4s 205ms/step - loss: 4.6796e-04 - val_loss: 0.0049\n",
            "Epoch 28/100\n",
            "20/20 [==============================] - 4s 211ms/step - loss: 4.4804e-04 - val_loss: 0.0038\n",
            "Epoch 29/100\n",
            "20/20 [==============================] - 4s 199ms/step - loss: 4.3763e-04 - val_loss: 0.0029\n",
            "Epoch 30/100\n",
            "20/20 [==============================] - 4s 203ms/step - loss: 4.7134e-04 - val_loss: 0.0039\n",
            "Epoch 31/100\n",
            "20/20 [==============================] - 4s 209ms/step - loss: 4.5382e-04 - val_loss: 0.0054\n",
            "Epoch 32/100\n",
            "20/20 [==============================] - 4s 202ms/step - loss: 4.2890e-04 - val_loss: 0.0038\n",
            "Epoch 33/100\n",
            "20/20 [==============================] - 4s 211ms/step - loss: 3.9833e-04 - val_loss: 0.0026\n",
            "Epoch 34/100\n",
            "20/20 [==============================] - 4s 205ms/step - loss: 4.2602e-04 - val_loss: 0.0047\n",
            "Epoch 35/100\n",
            "20/20 [==============================] - 4s 210ms/step - loss: 3.9580e-04 - val_loss: 0.0039\n",
            "Epoch 36/100\n",
            "20/20 [==============================] - 4s 212ms/step - loss: 4.0858e-04 - val_loss: 0.0023\n",
            "Epoch 37/100\n",
            "20/20 [==============================] - 4s 202ms/step - loss: 3.7381e-04 - val_loss: 0.0026\n",
            "Epoch 38/100\n",
            "20/20 [==============================] - 4s 202ms/step - loss: 3.6330e-04 - val_loss: 0.0025\n",
            "Epoch 39/100\n",
            "20/20 [==============================] - 4s 212ms/step - loss: 3.5734e-04 - val_loss: 0.0029\n",
            "Epoch 40/100\n",
            "20/20 [==============================] - 4s 211ms/step - loss: 3.9025e-04 - val_loss: 0.0023\n",
            "Epoch 41/100\n",
            "20/20 [==============================] - 4s 204ms/step - loss: 3.7184e-04 - val_loss: 0.0035\n",
            "Epoch 42/100\n",
            "20/20 [==============================] - 4s 205ms/step - loss: 3.5987e-04 - val_loss: 8.1588e-04\n",
            "Epoch 43/100\n",
            "20/20 [==============================] - 4s 197ms/step - loss: 3.8191e-04 - val_loss: 0.0024\n",
            "Epoch 44/100\n",
            "20/20 [==============================] - 4s 211ms/step - loss: 3.2891e-04 - val_loss: 0.0016\n",
            "Epoch 45/100\n",
            "20/20 [==============================] - 4s 208ms/step - loss: 3.1915e-04 - val_loss: 0.0016\n",
            "Epoch 46/100\n",
            "20/20 [==============================] - 4s 204ms/step - loss: 3.1961e-04 - val_loss: 0.0018\n",
            "Epoch 47/100\n",
            "20/20 [==============================] - 4s 202ms/step - loss: 3.2533e-04 - val_loss: 0.0012\n",
            "Epoch 48/100\n",
            "20/20 [==============================] - 4s 200ms/step - loss: 3.2626e-04 - val_loss: 0.0026\n",
            "Epoch 49/100\n",
            "20/20 [==============================] - 4s 211ms/step - loss: 2.9296e-04 - val_loss: 0.0016\n",
            "Epoch 50/100\n",
            "20/20 [==============================] - 4s 210ms/step - loss: 2.8701e-04 - val_loss: 0.0021\n",
            "Epoch 51/100\n",
            "20/20 [==============================] - 4s 199ms/step - loss: 3.1967e-04 - val_loss: 6.8975e-04\n",
            "Epoch 52/100\n",
            "20/20 [==============================] - 4s 196ms/step - loss: 2.8629e-04 - val_loss: 6.2402e-04\n",
            "Epoch 53/100\n",
            "20/20 [==============================] - 4s 200ms/step - loss: 2.7189e-04 - val_loss: 0.0027\n",
            "Epoch 54/100\n",
            "20/20 [==============================] - 4s 205ms/step - loss: 2.7829e-04 - val_loss: 0.0028\n",
            "Epoch 55/100\n",
            "20/20 [==============================] - 4s 206ms/step - loss: 3.9928e-04 - val_loss: 5.8298e-04\n",
            "Epoch 56/100\n",
            "20/20 [==============================] - 4s 209ms/step - loss: 3.0915e-04 - val_loss: 6.6413e-04\n",
            "Epoch 57/100\n",
            "20/20 [==============================] - 4s 206ms/step - loss: 2.7872e-04 - val_loss: 0.0019\n",
            "Epoch 58/100\n",
            "20/20 [==============================] - 4s 204ms/step - loss: 2.6518e-04 - val_loss: 4.7185e-04\n",
            "Epoch 59/100\n",
            "20/20 [==============================] - 4s 198ms/step - loss: 2.3843e-04 - val_loss: 7.9242e-04\n",
            "Epoch 60/100\n",
            "20/20 [==============================] - 4s 207ms/step - loss: 2.4322e-04 - val_loss: 0.0010\n",
            "Epoch 61/100\n",
            "20/20 [==============================] - 4s 208ms/step - loss: 2.3240e-04 - val_loss: 4.7211e-04\n",
            "Epoch 62/100\n",
            "20/20 [==============================] - 4s 210ms/step - loss: 2.5107e-04 - val_loss: 5.0558e-04\n",
            "Epoch 63/100\n",
            "20/20 [==============================] - 4s 197ms/step - loss: 2.4753e-04 - val_loss: 8.1737e-04\n",
            "Epoch 64/100\n",
            "20/20 [==============================] - 4s 198ms/step - loss: 2.1755e-04 - val_loss: 6.6458e-04\n",
            "Epoch 65/100\n",
            "20/20 [==============================] - 4s 199ms/step - loss: 2.1227e-04 - val_loss: 9.4133e-04\n",
            "Epoch 66/100\n",
            "20/20 [==============================] - 4s 210ms/step - loss: 2.2110e-04 - val_loss: 4.1045e-04\n",
            "Epoch 67/100\n",
            "20/20 [==============================] - 4s 207ms/step - loss: 2.4851e-04 - val_loss: 4.5483e-04\n",
            "Epoch 68/100\n",
            "20/20 [==============================] - 4s 205ms/step - loss: 2.1666e-04 - val_loss: 0.0012\n",
            "Epoch 69/100\n",
            "20/20 [==============================] - 4s 205ms/step - loss: 2.0494e-04 - val_loss: 0.0017\n",
            "Epoch 70/100\n",
            "20/20 [==============================] - 4s 210ms/step - loss: 2.5751e-04 - val_loss: 5.4350e-04\n",
            "Epoch 71/100\n",
            "20/20 [==============================] - 4s 203ms/step - loss: 1.8263e-04 - val_loss: 6.9635e-04\n",
            "Epoch 72/100\n",
            "20/20 [==============================] - 4s 201ms/step - loss: 1.8051e-04 - val_loss: 3.4888e-04\n",
            "Epoch 73/100\n",
            "20/20 [==============================] - 4s 198ms/step - loss: 1.7962e-04 - val_loss: 4.5315e-04\n",
            "Epoch 74/100\n",
            "20/20 [==============================] - 4s 198ms/step - loss: 2.6010e-04 - val_loss: 0.0015\n",
            "Epoch 75/100\n",
            "20/20 [==============================] - 4s 206ms/step - loss: 1.9106e-04 - val_loss: 4.7885e-04\n",
            "Epoch 76/100\n",
            "20/20 [==============================] - 4s 211ms/step - loss: 1.7516e-04 - val_loss: 3.2342e-04\n",
            "Epoch 77/100\n",
            "20/20 [==============================] - 4s 203ms/step - loss: 1.7027e-04 - val_loss: 3.9318e-04\n",
            "Epoch 78/100\n",
            "20/20 [==============================] - 4s 207ms/step - loss: 1.5690e-04 - val_loss: 4.3729e-04\n",
            "Epoch 79/100\n",
            "20/20 [==============================] - 4s 206ms/step - loss: 1.6896e-04 - val_loss: 0.0011\n",
            "Epoch 80/100\n",
            "20/20 [==============================] - 4s 198ms/step - loss: 2.1113e-04 - val_loss: 8.5922e-04\n",
            "Epoch 81/100\n",
            "20/20 [==============================] - 4s 195ms/step - loss: 1.5153e-04 - val_loss: 3.2587e-04\n",
            "Epoch 82/100\n",
            "20/20 [==============================] - 4s 210ms/step - loss: 1.4846e-04 - val_loss: 4.8669e-04\n",
            "Epoch 83/100\n",
            "20/20 [==============================] - 4s 203ms/step - loss: 1.3981e-04 - val_loss: 2.9399e-04\n",
            "Epoch 84/100\n",
            "20/20 [==============================] - 4s 209ms/step - loss: 1.5399e-04 - val_loss: 3.4045e-04\n",
            "Epoch 85/100\n",
            "20/20 [==============================] - 4s 211ms/step - loss: 1.4770e-04 - val_loss: 6.2198e-04\n",
            "Epoch 86/100\n",
            "20/20 [==============================] - 4s 207ms/step - loss: 1.4080e-04 - val_loss: 3.8506e-04\n",
            "Epoch 87/100\n",
            "20/20 [==============================] - 4s 211ms/step - loss: 1.3128e-04 - val_loss: 6.6181e-04\n",
            "Epoch 88/100\n",
            "20/20 [==============================] - 4s 208ms/step - loss: 1.3591e-04 - val_loss: 5.9707e-04\n",
            "Epoch 89/100\n",
            "20/20 [==============================] - 4s 209ms/step - loss: 1.4942e-04 - val_loss: 0.0014\n",
            "Epoch 90/100\n",
            "20/20 [==============================] - 4s 210ms/step - loss: 1.9557e-04 - val_loss: 9.3799e-04\n",
            "Epoch 91/100\n",
            "20/20 [==============================] - 4s 201ms/step - loss: 1.3886e-04 - val_loss: 5.8414e-04\n",
            "Epoch 92/100\n",
            "20/20 [==============================] - 4s 206ms/step - loss: 1.2838e-04 - val_loss: 8.6434e-04\n",
            "Epoch 93/100\n",
            "20/20 [==============================] - 4s 209ms/step - loss: 1.3386e-04 - val_loss: 2.6891e-04\n",
            "Epoch 94/100\n",
            "20/20 [==============================] - 4s 209ms/step - loss: 1.5381e-04 - val_loss: 2.8247e-04\n",
            "Epoch 95/100\n",
            "20/20 [==============================] - 4s 212ms/step - loss: 1.3658e-04 - val_loss: 5.7212e-04\n",
            "Epoch 96/100\n",
            "20/20 [==============================] - 4s 206ms/step - loss: 1.2321e-04 - val_loss: 3.0720e-04\n",
            "Epoch 97/100\n",
            "20/20 [==============================] - 4s 202ms/step - loss: 1.3617e-04 - val_loss: 3.0282e-04\n",
            "Epoch 98/100\n",
            "20/20 [==============================] - 4s 200ms/step - loss: 1.2651e-04 - val_loss: 4.4953e-04\n",
            "Epoch 99/100\n",
            "20/20 [==============================] - 4s 199ms/step - loss: 1.1962e-04 - val_loss: 4.1300e-04\n",
            "Epoch 100/100\n",
            "20/20 [==============================] - 4s 199ms/step - loss: 1.6349e-04 - val_loss: 3.5708e-04\n"
          ],
          "name": "stdout"
        },
        {
          "output_type": "execute_result",
          "data": {
            "text/plain": [
              "<keras.callbacks.History at 0x7fac81f51390>"
            ]
          },
          "metadata": {},
          "execution_count": 15
        }
      ]
    },
    {
      "cell_type": "code",
      "metadata": {
        "colab": {
          "base_uri": "https://localhost:8080/",
          "height": 35
        },
        "id": "cTizE--ydCYJ",
        "outputId": "9fc172ea-c655-4711-e48d-6d18e7616b61"
      },
      "source": [
        "import tensorflow as tf\n",
        "tf.__version__"
      ],
      "execution_count": 16,
      "outputs": [
        {
          "output_type": "execute_result",
          "data": {
            "application/vnd.google.colaboratory.intrinsic+json": {
              "type": "string"
            },
            "text/plain": [
              "'2.6.0'"
            ]
          },
          "metadata": {},
          "execution_count": 16
        }
      ]
    },
    {
      "cell_type": "code",
      "metadata": {
        "id": "_AZTHVp5dYAA"
      },
      "source": [
        "#Will make prediction and check performance metices\n",
        "train_predict=model.predict(x_train)\n",
        "test_predict=model.predict(x_test)"
      ],
      "execution_count": 17,
      "outputs": []
    },
    {
      "cell_type": "code",
      "metadata": {
        "id": "LhbEvj6Gdybq"
      },
      "source": [
        "#Transforming back to original form\n",
        "train_predict=sc.inverse_transform(train_predict)\n",
        "test_predict=sc.inverse_transform(test_predict)"
      ],
      "execution_count": 18,
      "outputs": []
    },
    {
      "cell_type": "code",
      "metadata": {
        "colab": {
          "base_uri": "https://localhost:8080/"
        },
        "id": "mzkgdpqwes_N",
        "outputId": "b0688ec4-ee10-4af0-efaf-a4723e0fd37a"
      },
      "source": [
        "#Calculating RSME Performance metrics\n",
        "import math\n",
        "from sklearn.metrics import mean_squared_error\n",
        "#For train Data\n",
        "math.sqrt(mean_squared_error(y_train,train_predict))"
      ],
      "execution_count": 19,
      "outputs": [
        {
          "output_type": "execute_result",
          "data": {
            "text/plain": [
              "139.22618579589124"
            ]
          },
          "metadata": {},
          "execution_count": 19
        }
      ]
    },
    {
      "cell_type": "code",
      "metadata": {
        "colab": {
          "base_uri": "https://localhost:8080/"
        },
        "id": "_CV0-PEIeyJV",
        "outputId": "1020f2ad-a9ee-4725-c98d-668613f53fb0"
      },
      "source": [
        "#For test Data\n",
        "math.sqrt(mean_squared_error(y_test,test_predict))"
      ],
      "execution_count": 20,
      "outputs": [
        {
          "output_type": "execute_result",
          "data": {
            "text/plain": [
              "207.2785268338642"
            ]
          },
          "metadata": {},
          "execution_count": 20
        }
      ]
    },
    {
      "cell_type": "code",
      "metadata": {
        "colab": {
          "base_uri": "https://localhost:8080/",
          "height": 265
        },
        "id": "QeX2hEUsfCR2",
        "outputId": "3589ef15-28b1-47a0-e8ac-226d4e42bf86"
      },
      "source": [
        "#plotting our train and test data\n",
        "#shift train predictions for plotting\n",
        "look_back=100\n",
        "trainPredictPlot=numpy.empty_like(dd)\n",
        "trainPredictPlot[:,:]=np.nan\n",
        "trainPredictPlot[look_back:len(train_predict)+look_back,:]=train_predict\n",
        "#shift test predictions for plotting\n",
        "testPredictPlot=numpy.empty_like(dd)\n",
        "testPredictPlot[:,:]=np.nan\n",
        "testPredictPlot[len(train_predict)+(look_back*2)+1:len(dd)-1,:]=test_predict\n",
        "#plot baseline and predictions\n",
        "plt.plot(sc.inverse_transform(dd))\n",
        "plt.plot(trainPredictPlot)\n",
        "plt.plot(testPredictPlot)\n",
        "plt.show()\n",
        "#orange--> Training data\n",
        "#blue --> Original data\n",
        "#green--> Predicted data"
      ],
      "execution_count": 21,
      "outputs": [
        {
          "output_type": "display_data",
          "data": {
            "image/png": "[encoded data removed]",
            "text/plain": [
              "<Figure size 432x288 with 1 Axes>"
            ]
          },
          "metadata": {
            "needs_background": "light"
          }
        }
      ]
    },
    {
      "cell_type": "code",
      "metadata": {
        "colab": {
          "base_uri": "https://localhost:8080/"
        },
        "id": "L9fLbevTfGqk",
        "outputId": "cf0be97c-f797-4d78-d288-c7a8fef9c917"
      },
      "source": [
        "len(test_data)"
      ],
      "execution_count": 22,
      "outputs": [
        {
          "output_type": "execute_result",
          "data": {
            "text/plain": [
              "713"
            ]
          },
          "metadata": {},
          "execution_count": 22
        }
      ]
    },
    {
      "cell_type": "code",
      "metadata": {
        "colab": {
          "base_uri": "https://localhost:8080/"
        },
        "id": "qJqhi-DmfTJJ",
        "outputId": "4f34fd50-6cd0-470d-f89e-6b94c80f9995"
      },
      "source": [
        "x_input=test_data[613:].reshape(1,-1)\n",
        "x_input.shape"
      ],
      "execution_count": 23,
      "outputs": [
        {
          "output_type": "execute_result",
          "data": {
            "text/plain": [
              "(1, 100)"
            ]
          },
          "metadata": {},
          "execution_count": 23
        }
      ]
    },
    {
      "cell_type": "code",
      "metadata": {
        "id": "tk5_XJARfVaS"
      },
      "source": [
        "#converting test data into list\n",
        "temp_input=list(x_input)\n",
        "temp_input=temp_input[0].tolist()"
      ],
      "execution_count": 24,
      "outputs": []
    },
    {
      "cell_type": "code",
      "metadata": {
        "colab": {
          "base_uri": "https://localhost:8080/"
        },
        "id": "uOVxSfedfZsU",
        "outputId": "abde62db-90d3-4c99-f24b-f9f8b7e85ab2"
      },
      "source": [
        "#Demonstrate prediction for the next 30 days\n",
        "from numpy import array\n",
        "\n",
        "l_output=[]\n",
        "n_steps=100\n",
        "i=0\n",
        "while(i<30):\n",
        "  if(len(temp_input)>100):\n",
        "    x_input=np.array(temp_input[1:])\n",
        "    print(\"{} day input {}\".format(i,x_input))\n",
        "    x_input=x_input.reshape(1,-1)\n",
        "    x_input=x_input.reshape((1,n_steps,1))\n",
        "    yhat=model.predict(x_input,verbose=0)\n",
        "    print(\"{} day output {}\".format(i,yhat))\n",
        "    temp_input.extend(yhat[0].tolist())\n",
        "    temp_input=temp_input[1:]\n",
        "    l_output.extend(yhat.tolist())\n",
        "    i=i+1\n",
        "  else:\n",
        "    x_input=x_input.reshape((1,n_steps,1)) #reshaping\n",
        "    yhat=model.predict(x_input,verbose=0) #prediction\n",
        "    print(yhat[0])\n",
        "    temp_input.extend(yhat[0].tolist()) #adding yhat value to previous input\n",
        "    print(len(temp_input))\n",
        "    l_output.extend(yhat.tolist()) #adding yhat value to final output\n",
        "    i=i+1\n",
        "\n",
        "print(l_output)"
      ],
      "execution_count": 25,
      "outputs": [
        {
          "output_type": "stream",
          "text": [
            "[0.63614696]\n",
            "101\n",
            "1 day input [0.86013417 0.85464525 0.84448059 0.8072779  0.71843871 0.66192316\n",
            " 0.67696686 0.67554381 0.67310429 0.68428542 0.68936776 0.70217524\n",
            " 0.71803212 0.72941655 0.73144948 0.74486684 0.76926205 0.75991055\n",
            " 0.74242732 0.73958122 0.74771295 0.75991055 0.7584875  0.76621264\n",
            " 0.75462492 0.76316324 0.79670665 0.80585485 0.7889815  0.78003659\n",
            " 0.73978451 0.73002643 0.73490547 0.74872942 0.75991055 0.75462492\n",
            " 0.75401504 0.76174019 0.7737345  0.82008538 0.80585485 0.81154706\n",
            " 0.77434438 0.78633869 0.79284407 0.78328929 0.77109169 0.74385038\n",
            " 0.71193332 0.68733482 0.67818662 0.65257166 0.64301687 0.65643423\n",
            " 0.67656028 0.67371417 0.65114861 0.65521447 0.66761537 0.67838992\n",
            " 0.69993901 0.63122586 0.63508843 0.64098394 0.64545639 0.64118723\n",
            " 0.63854442 0.63081927 0.62472047 0.6330555  0.64728603 0.6574507\n",
            " 0.66761537 0.66720878 0.64159382 0.62776987 0.63651149 0.63630819\n",
            " 0.62980281 0.62817646 0.63813783 0.65358813 0.63183574 0.57653995\n",
            " 0.57816629 0.57613336 0.61943484 0.57979264 0.57288067 0.62573694\n",
            " 0.63102257 0.6361049  0.62776987 0.6269567  0.63590161 0.62594023\n",
            " 0.6391543  0.62614353 0.62268754 0.63614696]\n",
            "1 day output [[0.6517168]]\n",
            "2 day input [0.85464525 0.84448059 0.8072779  0.71843871 0.66192316 0.67696686\n",
            " 0.67554381 0.67310429 0.68428542 0.68936776 0.70217524 0.71803212\n",
            " 0.72941655 0.73144948 0.74486684 0.76926205 0.75991055 0.74242732\n",
            " 0.73958122 0.74771295 0.75991055 0.7584875  0.76621264 0.75462492\n",
            " 0.76316324 0.79670665 0.80585485 0.7889815  0.78003659 0.73978451\n",
            " 0.73002643 0.73490547 0.74872942 0.75991055 0.75462492 0.75401504\n",
            " 0.76174019 0.7737345  0.82008538 0.80585485 0.81154706 0.77434438\n",
            " 0.78633869 0.79284407 0.78328929 0.77109169 0.74385038 0.71193332\n",
            " 0.68733482 0.67818662 0.65257166 0.64301687 0.65643423 0.67656028\n",
            " 0.67371417 0.65114861 0.65521447 0.66761537 0.67838992 0.69993901\n",
            " 0.63122586 0.63508843 0.64098394 0.64545639 0.64118723 0.63854442\n",
            " 0.63081927 0.62472047 0.6330555  0.64728603 0.6574507  0.66761537\n",
            " 0.66720878 0.64159382 0.62776987 0.63651149 0.63630819 0.62980281\n",
            " 0.62817646 0.63813783 0.65358813 0.63183574 0.57653995 0.57816629\n",
            " 0.57613336 0.61943484 0.57979264 0.57288067 0.62573694 0.63102257\n",
            " 0.6361049  0.62776987 0.6269567  0.63590161 0.62594023 0.6391543\n",
            " 0.62614353 0.62268754 0.63614696 0.65171683]\n",
            "2 day output [[0.67022294]]\n",
            "3 day input [0.84448059 0.8072779  0.71843871 0.66192316 0.67696686 0.67554381\n",
            " 0.67310429 0.68428542 0.68936776 0.70217524 0.71803212 0.72941655\n",
            " 0.73144948 0.74486684 0.76926205 0.75991055 0.74242732 0.73958122\n",
            " 0.74771295 0.75991055 0.7584875  0.76621264 0.75462492 0.76316324\n",
            " 0.79670665 0.80585485 0.7889815  0.78003659 0.73978451 0.73002643\n",
            " 0.73490547 0.74872942 0.75991055 0.75462492 0.75401504 0.76174019\n",
            " 0.7737345  0.82008538 0.80585485 0.81154706 0.77434438 0.78633869\n",
            " 0.79284407 0.78328929 0.77109169 0.74385038 0.71193332 0.68733482\n",
            " 0.67818662 0.65257166 0.64301687 0.65643423 0.67656028 0.67371417\n",
            " 0.65114861 0.65521447 0.66761537 0.67838992 0.69993901 0.63122586\n",
            " 0.63508843 0.64098394 0.64545639 0.64118723 0.63854442 0.63081927\n",
            " 0.62472047 0.6330555  0.64728603 0.6574507  0.66761537 0.66720878\n",
            " 0.64159382 0.62776987 0.63651149 0.63630819 0.62980281 0.62817646\n",
            " 0.63813783 0.65358813 0.63183574 0.57653995 0.57816629 0.57613336\n",
            " 0.61943484 0.57979264 0.57288067 0.62573694 0.63102257 0.6361049\n",
            " 0.62776987 0.6269567  0.63590161 0.62594023 0.6391543  0.62614353\n",
            " 0.62268754 0.63614696 0.65171683 0.67022294]\n",
            "3 day output [[0.6882366]]\n",
            "4 day input [0.8072779  0.71843871 0.66192316 0.67696686 0.67554381 0.67310429\n",
            " 0.68428542 0.68936776 0.70217524 0.71803212 0.72941655 0.73144948\n",
            " 0.74486684 0.76926205 0.75991055 0.74242732 0.73958122 0.74771295\n",
            " 0.75991055 0.7584875  0.76621264 0.75462492 0.76316324 0.79670665\n",
            " 0.80585485 0.7889815  0.78003659 0.73978451 0.73002643 0.73490547\n",
            " 0.74872942 0.75991055 0.75462492 0.75401504 0.76174019 0.7737345\n",
            " 0.82008538 0.80585485 0.81154706 0.77434438 0.78633869 0.79284407\n",
            " 0.78328929 0.77109169 0.74385038 0.71193332 0.68733482 0.67818662\n",
            " 0.65257166 0.64301687 0.65643423 0.67656028 0.67371417 0.65114861\n",
            " 0.65521447 0.66761537 0.67838992 0.69993901 0.63122586 0.63508843\n",
            " 0.64098394 0.64545639 0.64118723 0.63854442 0.63081927 0.62472047\n",
            " 0.6330555  0.64728603 0.6574507  0.66761537 0.66720878 0.64159382\n",
            " 0.62776987 0.63651149 0.63630819 0.62980281 0.62817646 0.63813783\n",
            " 0.65358813 0.63183574 0.57653995 0.57816629 0.57613336 0.61943484\n",
            " 0.57979264 0.57288067 0.62573694 0.63102257 0.6361049  0.62776987\n",
            " 0.6269567  0.63590161 0.62594023 0.6391543  0.62614353 0.62268754\n",
            " 0.63614696 0.65171683 0.67022294 0.68823659]\n",
            "4 day output [[0.7049518]]\n",
            "5 day input [0.71843871 0.66192316 0.67696686 0.67554381 0.67310429 0.68428542\n",
            " 0.68936776 0.70217524 0.71803212 0.72941655 0.73144948 0.74486684\n",
            " 0.76926205 0.75991055 0.74242732 0.73958122 0.74771295 0.75991055\n",
            " 0.7584875  0.76621264 0.75462492 0.76316324 0.79670665 0.80585485\n",
            " 0.7889815  0.78003659 0.73978451 0.73002643 0.73490547 0.74872942\n",
            " 0.75991055 0.75462492 0.75401504 0.76174019 0.7737345  0.82008538\n",
            " 0.80585485 0.81154706 0.77434438 0.78633869 0.79284407 0.78328929\n",
            " 0.77109169 0.74385038 0.71193332 0.68733482 0.67818662 0.65257166\n",
            " 0.64301687 0.65643423 0.67656028 0.67371417 0.65114861 0.65521447\n",
            " 0.66761537 0.67838992 0.69993901 0.63122586 0.63508843 0.64098394\n",
            " 0.64545639 0.64118723 0.63854442 0.63081927 0.62472047 0.6330555\n",
            " 0.64728603 0.6574507  0.66761537 0.66720878 0.64159382 0.62776987\n",
            " 0.63651149 0.63630819 0.62980281 0.62817646 0.63813783 0.65358813\n",
            " 0.63183574 0.57653995 0.57816629 0.57613336 0.61943484 0.57979264\n",
            " 0.57288067 0.62573694 0.63102257 0.6361049  0.62776987 0.6269567\n",
            " 0.63590161 0.62594023 0.6391543  0.62614353 0.62268754 0.63614696\n",
            " 0.65171683 0.67022294 0.68823659 0.70495182]\n",
            "5 day output [[0.7203529]]\n",
            "6 day input [0.66192316 0.67696686 0.67554381 0.67310429 0.68428542 0.68936776\n",
            " 0.70217524 0.71803212 0.72941655 0.73144948 0.74486684 0.76926205\n",
            " 0.75991055 0.74242732 0.73958122 0.74771295 0.75991055 0.7584875\n",
            " 0.76621264 0.75462492 0.76316324 0.79670665 0.80585485 0.7889815\n",
            " 0.78003659 0.73978451 0.73002643 0.73490547 0.74872942 0.75991055\n",
            " 0.75462492 0.75401504 0.76174019 0.7737345  0.82008538 0.80585485\n",
            " 0.81154706 0.77434438 0.78633869 0.79284407 0.78328929 0.77109169\n",
            " 0.74385038 0.71193332 0.68733482 0.67818662 0.65257166 0.64301687\n",
            " 0.65643423 0.67656028 0.67371417 0.65114861 0.65521447 0.66761537\n",
            " 0.67838992 0.69993901 0.63122586 0.63508843 0.64098394 0.64545639\n",
            " 0.64118723 0.63854442 0.63081927 0.62472047 0.6330555  0.64728603\n",
            " 0.6574507  0.66761537 0.66720878 0.64159382 0.62776987 0.63651149\n",
            " 0.63630819 0.62980281 0.62817646 0.63813783 0.65358813 0.63183574\n",
            " 0.57653995 0.57816629 0.57613336 0.61943484 0.57979264 0.57288067\n",
            " 0.62573694 0.63102257 0.6361049  0.62776987 0.6269567  0.63590161\n",
            " 0.62594023 0.6391543  0.62614353 0.62268754 0.63614696 0.65171683\n",
            " 0.67022294 0.68823659 0.70495182 0.72035289]\n",
            "6 day output [[0.73466367]]\n",
            "7 day input [0.67696686 0.67554381 0.67310429 0.68428542 0.68936776 0.70217524\n",
            " 0.71803212 0.72941655 0.73144948 0.74486684 0.76926205 0.75991055\n",
            " 0.74242732 0.73958122 0.74771295 0.75991055 0.7584875  0.76621264\n",
            " 0.75462492 0.76316324 0.79670665 0.80585485 0.7889815  0.78003659\n",
            " 0.73978451 0.73002643 0.73490547 0.74872942 0.75991055 0.75462492\n",
            " 0.75401504 0.76174019 0.7737345  0.82008538 0.80585485 0.81154706\n",
            " 0.77434438 0.78633869 0.79284407 0.78328929 0.77109169 0.74385038\n",
            " 0.71193332 0.68733482 0.67818662 0.65257166 0.64301687 0.65643423\n",
            " 0.67656028 0.67371417 0.65114861 0.65521447 0.66761537 0.67838992\n",
            " 0.69993901 0.63122586 0.63508843 0.64098394 0.64545639 0.64118723\n",
            " 0.63854442 0.63081927 0.62472047 0.6330555  0.64728603 0.6574507\n",
            " 0.66761537 0.66720878 0.64159382 0.62776987 0.63651149 0.63630819\n",
            " 0.62980281 0.62817646 0.63813783 0.65358813 0.63183574 0.57653995\n",
            " 0.57816629 0.57613336 0.61943484 0.57979264 0.57288067 0.62573694\n",
            " 0.63102257 0.6361049  0.62776987 0.6269567  0.63590161 0.62594023\n",
            " 0.6391543  0.62614353 0.62268754 0.63614696 0.65171683 0.67022294\n",
            " 0.68823659 0.70495182 0.72035289 0.73466367]\n",
            "7 day output [[0.74806887]]\n",
            "8 day input [0.67554381 0.67310429 0.68428542 0.68936776 0.70217524 0.71803212\n",
            " 0.72941655 0.73144948 0.74486684 0.76926205 0.75991055 0.74242732\n",
            " 0.73958122 0.74771295 0.75991055 0.7584875  0.76621264 0.75462492\n",
            " 0.76316324 0.79670665 0.80585485 0.7889815  0.78003659 0.73978451\n",
            " 0.73002643 0.73490547 0.74872942 0.75991055 0.75462492 0.75401504\n",
            " 0.76174019 0.7737345  0.82008538 0.80585485 0.81154706 0.77434438\n",
            " 0.78633869 0.79284407 0.78328929 0.77109169 0.74385038 0.71193332\n",
            " 0.68733482 0.67818662 0.65257166 0.64301687 0.65643423 0.67656028\n",
            " 0.67371417 0.65114861 0.65521447 0.66761537 0.67838992 0.69993901\n",
            " 0.63122586 0.63508843 0.64098394 0.64545639 0.64118723 0.63854442\n",
            " 0.63081927 0.62472047 0.6330555  0.64728603 0.6574507  0.66761537\n",
            " 0.66720878 0.64159382 0.62776987 0.63651149 0.63630819 0.62980281\n",
            " 0.62817646 0.63813783 0.65358813 0.63183574 0.57653995 0.57816629\n",
            " 0.57613336 0.61943484 0.57979264 0.57288067 0.62573694 0.63102257\n",
            " 0.6361049  0.62776987 0.6269567  0.63590161 0.62594023 0.6391543\n",
            " 0.62614353 0.62268754 0.63614696 0.65171683 0.67022294 0.68823659\n",
            " 0.70495182 0.72035289 0.73466367 0.74806887]\n",
            "8 day output [[0.7606763]]\n",
            "9 day input [0.67310429 0.68428542 0.68936776 0.70217524 0.71803212 0.72941655\n",
            " 0.73144948 0.74486684 0.76926205 0.75991055 0.74242732 0.73958122\n",
            " 0.74771295 0.75991055 0.7584875  0.76621264 0.75462492 0.76316324\n",
            " 0.79670665 0.80585485 0.7889815  0.78003659 0.73978451 0.73002643\n",
            " 0.73490547 0.74872942 0.75991055 0.75462492 0.75401504 0.76174019\n",
            " 0.7737345  0.82008538 0.80585485 0.81154706 0.77434438 0.78633869\n",
            " 0.79284407 0.78328929 0.77109169 0.74385038 0.71193332 0.68733482\n",
            " 0.67818662 0.65257166 0.64301687 0.65643423 0.67656028 0.67371417\n",
            " 0.65114861 0.65521447 0.66761537 0.67838992 0.69993901 0.63122586\n",
            " 0.63508843 0.64098394 0.64545639 0.64118723 0.63854442 0.63081927\n",
            " 0.62472047 0.6330555  0.64728603 0.6574507  0.66761537 0.66720878\n",
            " 0.64159382 0.62776987 0.63651149 0.63630819 0.62980281 0.62817646\n",
            " 0.63813783 0.65358813 0.63183574 0.57653995 0.57816629 0.57613336\n",
            " 0.61943484 0.57979264 0.57288067 0.62573694 0.63102257 0.6361049\n",
            " 0.62776987 0.6269567  0.63590161 0.62594023 0.6391543  0.62614353\n",
            " 0.62268754 0.63614696 0.65171683 0.67022294 0.68823659 0.70495182\n",
            " 0.72035289 0.73466367 0.74806887 0.76067632]\n",
            "9 day output [[0.77254844]]\n",
            "10 day input [0.68428542 0.68936776 0.70217524 0.71803212 0.72941655 0.73144948\n",
            " 0.74486684 0.76926205 0.75991055 0.74242732 0.73958122 0.74771295\n",
            " 0.75991055 0.7584875  0.76621264 0.75462492 0.76316324 0.79670665\n",
            " 0.80585485 0.7889815  0.78003659 0.73978451 0.73002643 0.73490547\n",
            " 0.74872942 0.75991055 0.75462492 0.75401504 0.76174019 0.7737345\n",
            " 0.82008538 0.80585485 0.81154706 0.77434438 0.78633869 0.79284407\n",
            " 0.78328929 0.77109169 0.74385038 0.71193332 0.68733482 0.67818662\n",
            " 0.65257166 0.64301687 0.65643423 0.67656028 0.67371417 0.65114861\n",
            " 0.65521447 0.66761537 0.67838992 0.69993901 0.63122586 0.63508843\n",
            " 0.64098394 0.64545639 0.64118723 0.63854442 0.63081927 0.62472047\n",
            " 0.6330555  0.64728603 0.6574507  0.66761537 0.66720878 0.64159382\n",
            " 0.62776987 0.63651149 0.63630819 0.62980281 0.62817646 0.63813783\n",
            " 0.65358813 0.63183574 0.57653995 0.57816629 0.57613336 0.61943484\n",
            " 0.57979264 0.57288067 0.62573694 0.63102257 0.6361049  0.62776987\n",
            " 0.6269567  0.63590161 0.62594023 0.6391543  0.62614353 0.62268754\n",
            " 0.63614696 0.65171683 0.67022294 0.68823659 0.70495182 0.72035289\n",
            " 0.73466367 0.74806887 0.76067632 0.77254844]\n",
            "10 day output [[0.7837426]]\n",
            "11 day input [0.68936776 0.70217524 0.71803212 0.72941655 0.73144948 0.74486684\n",
            " 0.76926205 0.75991055 0.74242732 0.73958122 0.74771295 0.75991055\n",
            " 0.7584875  0.76621264 0.75462492 0.76316324 0.79670665 0.80585485\n",
            " 0.7889815  0.78003659 0.73978451 0.73002643 0.73490547 0.74872942\n",
            " 0.75991055 0.75462492 0.75401504 0.76174019 0.7737345  0.82008538\n",
            " 0.80585485 0.81154706 0.77434438 0.78633869 0.79284407 0.78328929\n",
            " 0.77109169 0.74385038 0.71193332 0.68733482 0.67818662 0.65257166\n",
            " 0.64301687 0.65643423 0.67656028 0.67371417 0.65114861 0.65521447\n",
            " 0.66761537 0.67838992 0.69993901 0.63122586 0.63508843 0.64098394\n",
            " 0.64545639 0.64118723 0.63854442 0.63081927 0.62472047 0.6330555\n",
            " 0.64728603 0.6574507  0.66761537 0.66720878 0.64159382 0.62776987\n",
            " 0.63651149 0.63630819 0.62980281 0.62817646 0.63813783 0.65358813\n",
            " 0.63183574 0.57653995 0.57816629 0.57613336 0.61943484 0.57979264\n",
            " 0.57288067 0.62573694 0.63102257 0.6361049  0.62776987 0.6269567\n",
            " 0.63590161 0.62594023 0.6391543  0.62614353 0.62268754 0.63614696\n",
            " 0.65171683 0.67022294 0.68823659 0.70495182 0.72035289 0.73466367\n",
            " 0.74806887 0.76067632 0.77254844 0.78374261]\n",
            "11 day output [[0.7943299]]\n",
            "12 day input [0.70217524 0.71803212 0.72941655 0.73144948 0.74486684 0.76926205\n",
            " 0.75991055 0.74242732 0.73958122 0.74771295 0.75991055 0.7584875\n",
            " 0.76621264 0.75462492 0.76316324 0.79670665 0.80585485 0.7889815\n",
            " 0.78003659 0.73978451 0.73002643 0.73490547 0.74872942 0.75991055\n",
            " 0.75462492 0.75401504 0.76174019 0.7737345  0.82008538 0.80585485\n",
            " 0.81154706 0.77434438 0.78633869 0.79284407 0.78328929 0.77109169\n",
            " 0.74385038 0.71193332 0.68733482 0.67818662 0.65257166 0.64301687\n",
            " 0.65643423 0.67656028 0.67371417 0.65114861 0.65521447 0.66761537\n",
            " 0.67838992 0.69993901 0.63122586 0.63508843 0.64098394 0.64545639\n",
            " 0.64118723 0.63854442 0.63081927 0.62472047 0.6330555  0.64728603\n",
            " 0.6574507  0.66761537 0.66720878 0.64159382 0.62776987 0.63651149\n",
            " 0.63630819 0.62980281 0.62817646 0.63813783 0.65358813 0.63183574\n",
            " 0.57653995 0.57816629 0.57613336 0.61943484 0.57979264 0.57288067\n",
            " 0.62573694 0.63102257 0.6361049  0.62776987 0.6269567  0.63590161\n",
            " 0.62594023 0.6391543  0.62614353 0.62268754 0.63614696 0.65171683\n",
            " 0.67022294 0.68823659 0.70495182 0.72035289 0.73466367 0.74806887\n",
            " 0.76067632 0.77254844 0.78374261 0.79432988]\n",
            "12 day output [[0.804392]]\n",
            "13 day input [0.71803212 0.72941655 0.73144948 0.74486684 0.76926205 0.75991055\n",
            " 0.74242732 0.73958122 0.74771295 0.75991055 0.7584875  0.76621264\n",
            " 0.75462492 0.76316324 0.79670665 0.80585485 0.7889815  0.78003659\n",
            " 0.73978451 0.73002643 0.73490547 0.74872942 0.75991055 0.75462492\n",
            " 0.75401504 0.76174019 0.7737345  0.82008538 0.80585485 0.81154706\n",
            " 0.77434438 0.78633869 0.79284407 0.78328929 0.77109169 0.74385038\n",
            " 0.71193332 0.68733482 0.67818662 0.65257166 0.64301687 0.65643423\n",
            " 0.67656028 0.67371417 0.65114861 0.65521447 0.66761537 0.67838992\n",
            " 0.69993901 0.63122586 0.63508843 0.64098394 0.64545639 0.64118723\n",
            " 0.63854442 0.63081927 0.62472047 0.6330555  0.64728603 0.6574507\n",
            " 0.66761537 0.66720878 0.64159382 0.62776987 0.63651149 0.63630819\n",
            " 0.62980281 0.62817646 0.63813783 0.65358813 0.63183574 0.57653995\n",
            " 0.57816629 0.57613336 0.61943484 0.57979264 0.57288067 0.62573694\n",
            " 0.63102257 0.6361049  0.62776987 0.6269567  0.63590161 0.62594023\n",
            " 0.6391543  0.62614353 0.62268754 0.63614696 0.65171683 0.67022294\n",
            " 0.68823659 0.70495182 0.72035289 0.73466367 0.74806887 0.76067632\n",
            " 0.77254844 0.78374261 0.79432988 0.80439198]\n",
            "13 day output [[0.8140104]]\n",
            "14 day input [0.72941655 0.73144948 0.74486684 0.76926205 0.75991055 0.74242732\n",
            " 0.73958122 0.74771295 0.75991055 0.7584875  0.76621264 0.75462492\n",
            " 0.76316324 0.79670665 0.80585485 0.7889815  0.78003659 0.73978451\n",
            " 0.73002643 0.73490547 0.74872942 0.75991055 0.75462492 0.75401504\n",
            " 0.76174019 0.7737345  0.82008538 0.80585485 0.81154706 0.77434438\n",
            " 0.78633869 0.79284407 0.78328929 0.77109169 0.74385038 0.71193332\n",
            " 0.68733482 0.67818662 0.65257166 0.64301687 0.65643423 0.67656028\n",
            " 0.67371417 0.65114861 0.65521447 0.66761537 0.67838992 0.69993901\n",
            " 0.63122586 0.63508843 0.64098394 0.64545639 0.64118723 0.63854442\n",
            " 0.63081927 0.62472047 0.6330555  0.64728603 0.6574507  0.66761537\n",
            " 0.66720878 0.64159382 0.62776987 0.63651149 0.63630819 0.62980281\n",
            " 0.62817646 0.63813783 0.65358813 0.63183574 0.57653995 0.57816629\n",
            " 0.57613336 0.61943484 0.57979264 0.57288067 0.62573694 0.63102257\n",
            " 0.6361049  0.62776987 0.6269567  0.63590161 0.62594023 0.6391543\n",
            " 0.62614353 0.62268754 0.63614696 0.65171683 0.67022294 0.68823659\n",
            " 0.70495182 0.72035289 0.73466367 0.74806887 0.76067632 0.77254844\n",
            " 0.78374261 0.79432988 0.80439198 0.81401038]\n",
            "14 day output [[0.823256]]\n",
            "15 day input [0.73144948 0.74486684 0.76926205 0.75991055 0.74242732 0.73958122\n",
            " 0.74771295 0.75991055 0.7584875  0.76621264 0.75462492 0.76316324\n",
            " 0.79670665 0.80585485 0.7889815  0.78003659 0.73978451 0.73002643\n",
            " 0.73490547 0.74872942 0.75991055 0.75462492 0.75401504 0.76174019\n",
            " 0.7737345  0.82008538 0.80585485 0.81154706 0.77434438 0.78633869\n",
            " 0.79284407 0.78328929 0.77109169 0.74385038 0.71193332 0.68733482\n",
            " 0.67818662 0.65257166 0.64301687 0.65643423 0.67656028 0.67371417\n",
            " 0.65114861 0.65521447 0.66761537 0.67838992 0.69993901 0.63122586\n",
            " 0.63508843 0.64098394 0.64545639 0.64118723 0.63854442 0.63081927\n",
            " 0.62472047 0.6330555  0.64728603 0.6574507  0.66761537 0.66720878\n",
            " 0.64159382 0.62776987 0.63651149 0.63630819 0.62980281 0.62817646\n",
            " 0.63813783 0.65358813 0.63183574 0.57653995 0.57816629 0.57613336\n",
            " 0.61943484 0.57979264 0.57288067 0.62573694 0.63102257 0.6361049\n",
            " 0.62776987 0.6269567  0.63590161 0.62594023 0.6391543  0.62614353\n",
            " 0.62268754 0.63614696 0.65171683 0.67022294 0.68823659 0.70495182\n",
            " 0.72035289 0.73466367 0.74806887 0.76067632 0.77254844 0.78374261\n",
            " 0.79432988 0.80439198 0.81401038 0.82325602]\n",
            "15 day output [[0.83218277]]\n",
            "16 day input [0.74486684 0.76926205 0.75991055 0.74242732 0.73958122 0.74771295\n",
            " 0.75991055 0.7584875  0.76621264 0.75462492 0.76316324 0.79670665\n",
            " 0.80585485 0.7889815  0.78003659 0.73978451 0.73002643 0.73490547\n",
            " 0.74872942 0.75991055 0.75462492 0.75401504 0.76174019 0.7737345\n",
            " 0.82008538 0.80585485 0.81154706 0.77434438 0.78633869 0.79284407\n",
            " 0.78328929 0.77109169 0.74385038 0.71193332 0.68733482 0.67818662\n",
            " 0.65257166 0.64301687 0.65643423 0.67656028 0.67371417 0.65114861\n",
            " 0.65521447 0.66761537 0.67838992 0.69993901 0.63122586 0.63508843\n",
            " 0.64098394 0.64545639 0.64118723 0.63854442 0.63081927 0.62472047\n",
            " 0.6330555  0.64728603 0.6574507  0.66761537 0.66720878 0.64159382\n",
            " 0.62776987 0.63651149 0.63630819 0.62980281 0.62817646 0.63813783\n",
            " 0.65358813 0.63183574 0.57653995 0.57816629 0.57613336 0.61943484\n",
            " 0.57979264 0.57288067 0.62573694 0.63102257 0.6361049  0.62776987\n",
            " 0.6269567  0.63590161 0.62594023 0.6391543  0.62614353 0.62268754\n",
            " 0.63614696 0.65171683 0.67022294 0.68823659 0.70495182 0.72035289\n",
            " 0.73466367 0.74806887 0.76067632 0.77254844 0.78374261 0.79432988\n",
            " 0.80439198 0.81401038 0.82325602 0.83218277]\n",
            "16 day output [[0.8408268]]\n",
            "17 day input [0.76926205 0.75991055 0.74242732 0.73958122 0.74771295 0.75991055\n",
            " 0.7584875  0.76621264 0.75462492 0.76316324 0.79670665 0.80585485\n",
            " 0.7889815  0.78003659 0.73978451 0.73002643 0.73490547 0.74872942\n",
            " 0.75991055 0.75462492 0.75401504 0.76174019 0.7737345  0.82008538\n",
            " 0.80585485 0.81154706 0.77434438 0.78633869 0.79284407 0.78328929\n",
            " 0.77109169 0.74385038 0.71193332 0.68733482 0.67818662 0.65257166\n",
            " 0.64301687 0.65643423 0.67656028 0.67371417 0.65114861 0.65521447\n",
            " 0.66761537 0.67838992 0.69993901 0.63122586 0.63508843 0.64098394\n",
            " 0.64545639 0.64118723 0.63854442 0.63081927 0.62472047 0.6330555\n",
            " 0.64728603 0.6574507  0.66761537 0.66720878 0.64159382 0.62776987\n",
            " 0.63651149 0.63630819 0.62980281 0.62817646 0.63813783 0.65358813\n",
            " 0.63183574 0.57653995 0.57816629 0.57613336 0.61943484 0.57979264\n",
            " 0.57288067 0.62573694 0.63102257 0.6361049  0.62776987 0.6269567\n",
            " 0.63590161 0.62594023 0.6391543  0.62614353 0.62268754 0.63614696\n",
            " 0.65171683 0.67022294 0.68823659 0.70495182 0.72035289 0.73466367\n",
            " 0.74806887 0.76067632 0.77254844 0.78374261 0.79432988 0.80439198\n",
            " 0.81401038 0.82325602 0.83218277 0.84082681]\n",
            "17 day output [[0.84920925]]\n",
            "18 day input [0.75991055 0.74242732 0.73958122 0.74771295 0.75991055 0.7584875\n",
            " 0.76621264 0.75462492 0.76316324 0.79670665 0.80585485 0.7889815\n",
            " 0.78003659 0.73978451 0.73002643 0.73490547 0.74872942 0.75991055\n",
            " 0.75462492 0.75401504 0.76174019 0.7737345  0.82008538 0.80585485\n",
            " 0.81154706 0.77434438 0.78633869 0.79284407 0.78328929 0.77109169\n",
            " 0.74385038 0.71193332 0.68733482 0.67818662 0.65257166 0.64301687\n",
            " 0.65643423 0.67656028 0.67371417 0.65114861 0.65521447 0.66761537\n",
            " 0.67838992 0.69993901 0.63122586 0.63508843 0.64098394 0.64545639\n",
            " 0.64118723 0.63854442 0.63081927 0.62472047 0.6330555  0.64728603\n",
            " 0.6574507  0.66761537 0.66720878 0.64159382 0.62776987 0.63651149\n",
            " 0.63630819 0.62980281 0.62817646 0.63813783 0.65358813 0.63183574\n",
            " 0.57653995 0.57816629 0.57613336 0.61943484 0.57979264 0.57288067\n",
            " 0.62573694 0.63102257 0.6361049  0.62776987 0.6269567  0.63590161\n",
            " 0.62594023 0.6391543  0.62614353 0.62268754 0.63614696 0.65171683\n",
            " 0.67022294 0.68823659 0.70495182 0.72035289 0.73466367 0.74806887\n",
            " 0.76067632 0.77254844 0.78374261 0.79432988 0.80439198 0.81401038\n",
            " 0.82325602 0.83218277 0.84082681 0.84920925]\n",
            "18 day output [[0.85734004]]\n",
            "19 day input [0.74242732 0.73958122 0.74771295 0.75991055 0.7584875  0.76621264\n",
            " 0.75462492 0.76316324 0.79670665 0.80585485 0.7889815  0.78003659\n",
            " 0.73978451 0.73002643 0.73490547 0.74872942 0.75991055 0.75462492\n",
            " 0.75401504 0.76174019 0.7737345  0.82008538 0.80585485 0.81154706\n",
            " 0.77434438 0.78633869 0.79284407 0.78328929 0.77109169 0.74385038\n",
            " 0.71193332 0.68733482 0.67818662 0.65257166 0.64301687 0.65643423\n",
            " 0.67656028 0.67371417 0.65114861 0.65521447 0.66761537 0.67838992\n",
            " 0.69993901 0.63122586 0.63508843 0.64098394 0.64545639 0.64118723\n",
            " 0.63854442 0.63081927 0.62472047 0.6330555  0.64728603 0.6574507\n",
            " 0.66761537 0.66720878 0.64159382 0.62776987 0.63651149 0.63630819\n",
            " 0.62980281 0.62817646 0.63813783 0.65358813 0.63183574 0.57653995\n",
            " 0.57816629 0.57613336 0.61943484 0.57979264 0.57288067 0.62573694\n",
            " 0.63102257 0.6361049  0.62776987 0.6269567  0.63590161 0.62594023\n",
            " 0.6391543  0.62614353 0.62268754 0.63614696 0.65171683 0.67022294\n",
            " 0.68823659 0.70495182 0.72035289 0.73466367 0.74806887 0.76067632\n",
            " 0.77254844 0.78374261 0.79432988 0.80439198 0.81401038 0.82325602\n",
            " 0.83218277 0.84082681 0.84920925 0.85734004]\n",
            "19 day output [[0.8652216]]\n",
            "20 day input [0.73958122 0.74771295 0.75991055 0.7584875  0.76621264 0.75462492\n",
            " 0.76316324 0.79670665 0.80585485 0.7889815  0.78003659 0.73978451\n",
            " 0.73002643 0.73490547 0.74872942 0.75991055 0.75462492 0.75401504\n",
            " 0.76174019 0.7737345  0.82008538 0.80585485 0.81154706 0.77434438\n",
            " 0.78633869 0.79284407 0.78328929 0.77109169 0.74385038 0.71193332\n",
            " 0.68733482 0.67818662 0.65257166 0.64301687 0.65643423 0.67656028\n",
            " 0.67371417 0.65114861 0.65521447 0.66761537 0.67838992 0.69993901\n",
            " 0.63122586 0.63508843 0.64098394 0.64545639 0.64118723 0.63854442\n",
            " 0.63081927 0.62472047 0.6330555  0.64728603 0.6574507  0.66761537\n",
            " 0.66720878 0.64159382 0.62776987 0.63651149 0.63630819 0.62980281\n",
            " 0.62817646 0.63813783 0.65358813 0.63183574 0.57653995 0.57816629\n",
            " 0.57613336 0.61943484 0.57979264 0.57288067 0.62573694 0.63102257\n",
            " 0.6361049  0.62776987 0.6269567  0.63590161 0.62594023 0.6391543\n",
            " 0.62614353 0.62268754 0.63614696 0.65171683 0.67022294 0.68823659\n",
            " 0.70495182 0.72035289 0.73466367 0.74806887 0.76067632 0.77254844\n",
            " 0.78374261 0.79432988 0.80439198 0.81401038 0.82325602 0.83218277\n",
            " 0.84082681 0.84920925 0.85734004 0.86522162]\n",
            "20 day output [[0.87285334]]\n",
            "21 day input [0.74771295 0.75991055 0.7584875  0.76621264 0.75462492 0.76316324\n",
            " 0.79670665 0.80585485 0.7889815  0.78003659 0.73978451 0.73002643\n",
            " 0.73490547 0.74872942 0.75991055 0.75462492 0.75401504 0.76174019\n",
            " 0.7737345  0.82008538 0.80585485 0.81154706 0.77434438 0.78633869\n",
            " 0.79284407 0.78328929 0.77109169 0.74385038 0.71193332 0.68733482\n",
            " 0.67818662 0.65257166 0.64301687 0.65643423 0.67656028 0.67371417\n",
            " 0.65114861 0.65521447 0.66761537 0.67838992 0.69993901 0.63122586\n",
            " 0.63508843 0.64098394 0.64545639 0.64118723 0.63854442 0.63081927\n",
            " 0.62472047 0.6330555  0.64728603 0.6574507  0.66761537 0.66720878\n",
            " 0.64159382 0.62776987 0.63651149 0.63630819 0.62980281 0.62817646\n",
            " 0.63813783 0.65358813 0.63183574 0.57653995 0.57816629 0.57613336\n",
            " 0.61943484 0.57979264 0.57288067 0.62573694 0.63102257 0.6361049\n",
            " 0.62776987 0.6269567  0.63590161 0.62594023 0.6391543  0.62614353\n",
            " 0.62268754 0.63614696 0.65171683 0.67022294 0.68823659 0.70495182\n",
            " 0.72035289 0.73466367 0.74806887 0.76067632 0.77254844 0.78374261\n",
            " 0.79432988 0.80439198 0.81401038 0.82325602 0.83218277 0.84082681\n",
            " 0.84920925 0.85734004 0.86522162 0.87285334]\n",
            "21 day output [[0.88023394]]\n",
            "22 day input [0.75991055 0.7584875  0.76621264 0.75462492 0.76316324 0.79670665\n",
            " 0.80585485 0.7889815  0.78003659 0.73978451 0.73002643 0.73490547\n",
            " 0.74872942 0.75991055 0.75462492 0.75401504 0.76174019 0.7737345\n",
            " 0.82008538 0.80585485 0.81154706 0.77434438 0.78633869 0.79284407\n",
            " 0.78328929 0.77109169 0.74385038 0.71193332 0.68733482 0.67818662\n",
            " 0.65257166 0.64301687 0.65643423 0.67656028 0.67371417 0.65114861\n",
            " 0.65521447 0.66761537 0.67838992 0.69993901 0.63122586 0.63508843\n",
            " 0.64098394 0.64545639 0.64118723 0.63854442 0.63081927 0.62472047\n",
            " 0.6330555  0.64728603 0.6574507  0.66761537 0.66720878 0.64159382\n",
            " 0.62776987 0.63651149 0.63630819 0.62980281 0.62817646 0.63813783\n",
            " 0.65358813 0.63183574 0.57653995 0.57816629 0.57613336 0.61943484\n",
            " 0.57979264 0.57288067 0.62573694 0.63102257 0.6361049  0.62776987\n",
            " 0.6269567  0.63590161 0.62594023 0.6391543  0.62614353 0.62268754\n",
            " 0.63614696 0.65171683 0.67022294 0.68823659 0.70495182 0.72035289\n",
            " 0.73466367 0.74806887 0.76067632 0.77254844 0.78374261 0.79432988\n",
            " 0.80439198 0.81401038 0.82325602 0.83218277 0.84082681 0.84920925\n",
            " 0.85734004 0.86522162 0.87285334 0.88023394]\n",
            "22 day output [[0.88736284]]\n",
            "23 day input [0.7584875  0.76621264 0.75462492 0.76316324 0.79670665 0.80585485\n",
            " 0.7889815  0.78003659 0.73978451 0.73002643 0.73490547 0.74872942\n",
            " 0.75991055 0.75462492 0.75401504 0.76174019 0.7737345  0.82008538\n",
            " 0.80585485 0.81154706 0.77434438 0.78633869 0.79284407 0.78328929\n",
            " 0.77109169 0.74385038 0.71193332 0.68733482 0.67818662 0.65257166\n",
            " 0.64301687 0.65643423 0.67656028 0.67371417 0.65114861 0.65521447\n",
            " 0.66761537 0.67838992 0.69993901 0.63122586 0.63508843 0.64098394\n",
            " 0.64545639 0.64118723 0.63854442 0.63081927 0.62472047 0.6330555\n",
            " 0.64728603 0.6574507  0.66761537 0.66720878 0.64159382 0.62776987\n",
            " 0.63651149 0.63630819 0.62980281 0.62817646 0.63813783 0.65358813\n",
            " 0.63183574 0.57653995 0.57816629 0.57613336 0.61943484 0.57979264\n",
            " 0.57288067 0.62573694 0.63102257 0.6361049  0.62776987 0.6269567\n",
            " 0.63590161 0.62594023 0.6391543  0.62614353 0.62268754 0.63614696\n",
            " 0.65171683 0.67022294 0.68823659 0.70495182 0.72035289 0.73466367\n",
            " 0.74806887 0.76067632 0.77254844 0.78374261 0.79432988 0.80439198\n",
            " 0.81401038 0.82325602 0.83218277 0.84082681 0.84920925 0.85734004\n",
            " 0.86522162 0.87285334 0.88023394 0.88736284]\n",
            "23 day output [[0.8942411]]\n",
            "24 day input [0.76621264 0.75462492 0.76316324 0.79670665 0.80585485 0.7889815\n",
            " 0.78003659 0.73978451 0.73002643 0.73490547 0.74872942 0.75991055\n",
            " 0.75462492 0.75401504 0.76174019 0.7737345  0.82008538 0.80585485\n",
            " 0.81154706 0.77434438 0.78633869 0.79284407 0.78328929 0.77109169\n",
            " 0.74385038 0.71193332 0.68733482 0.67818662 0.65257166 0.64301687\n",
            " 0.65643423 0.67656028 0.67371417 0.65114861 0.65521447 0.66761537\n",
            " 0.67838992 0.69993901 0.63122586 0.63508843 0.64098394 0.64545639\n",
            " 0.64118723 0.63854442 0.63081927 0.62472047 0.6330555  0.64728603\n",
            " 0.6574507  0.66761537 0.66720878 0.64159382 0.62776987 0.63651149\n",
            " 0.63630819 0.62980281 0.62817646 0.63813783 0.65358813 0.63183574\n",
            " 0.57653995 0.57816629 0.57613336 0.61943484 0.57979264 0.57288067\n",
            " 0.62573694 0.63102257 0.6361049  0.62776987 0.6269567  0.63590161\n",
            " 0.62594023 0.6391543  0.62614353 0.62268754 0.63614696 0.65171683\n",
            " 0.67022294 0.68823659 0.70495182 0.72035289 0.73466367 0.74806887\n",
            " 0.76067632 0.77254844 0.78374261 0.79432988 0.80439198 0.81401038\n",
            " 0.82325602 0.83218277 0.84082681 0.84920925 0.85734004 0.86522162\n",
            " 0.87285334 0.88023394 0.88736284 0.89424109]\n",
            "24 day output [[0.9008722]]\n",
            "25 day input [0.75462492 0.76316324 0.79670665 0.80585485 0.7889815  0.78003659\n",
            " 0.73978451 0.73002643 0.73490547 0.74872942 0.75991055 0.75462492\n",
            " 0.75401504 0.76174019 0.7737345  0.82008538 0.80585485 0.81154706\n",
            " 0.77434438 0.78633869 0.79284407 0.78328929 0.77109169 0.74385038\n",
            " 0.71193332 0.68733482 0.67818662 0.65257166 0.64301687 0.65643423\n",
            " 0.67656028 0.67371417 0.65114861 0.65521447 0.66761537 0.67838992\n",
            " 0.69993901 0.63122586 0.63508843 0.64098394 0.64545639 0.64118723\n",
            " 0.63854442 0.63081927 0.62472047 0.6330555  0.64728603 0.6574507\n",
            " 0.66761537 0.66720878 0.64159382 0.62776987 0.63651149 0.63630819\n",
            " 0.62980281 0.62817646 0.63813783 0.65358813 0.63183574 0.57653995\n",
            " 0.57816629 0.57613336 0.61943484 0.57979264 0.57288067 0.62573694\n",
            " 0.63102257 0.6361049  0.62776987 0.6269567  0.63590161 0.62594023\n",
            " 0.6391543  0.62614353 0.62268754 0.63614696 0.65171683 0.67022294\n",
            " 0.68823659 0.70495182 0.72035289 0.73466367 0.74806887 0.76067632\n",
            " 0.77254844 0.78374261 0.79432988 0.80439198 0.81401038 0.82325602\n",
            " 0.83218277 0.84082681 0.84920925 0.85734004 0.86522162 0.87285334\n",
            " 0.88023394 0.88736284 0.89424109 0.90087217]\n",
            "25 day output [[0.9072601]]\n",
            "26 day input [0.76316324 0.79670665 0.80585485 0.7889815  0.78003659 0.73978451\n",
            " 0.73002643 0.73490547 0.74872942 0.75991055 0.75462492 0.75401504\n",
            " 0.76174019 0.7737345  0.82008538 0.80585485 0.81154706 0.77434438\n",
            " 0.78633869 0.79284407 0.78328929 0.77109169 0.74385038 0.71193332\n",
            " 0.68733482 0.67818662 0.65257166 0.64301687 0.65643423 0.67656028\n",
            " 0.67371417 0.65114861 0.65521447 0.66761537 0.67838992 0.69993901\n",
            " 0.63122586 0.63508843 0.64098394 0.64545639 0.64118723 0.63854442\n",
            " 0.63081927 0.62472047 0.6330555  0.64728603 0.6574507  0.66761537\n",
            " 0.66720878 0.64159382 0.62776987 0.63651149 0.63630819 0.62980281\n",
            " 0.62817646 0.63813783 0.65358813 0.63183574 0.57653995 0.57816629\n",
            " 0.57613336 0.61943484 0.57979264 0.57288067 0.62573694 0.63102257\n",
            " 0.6361049  0.62776987 0.6269567  0.63590161 0.62594023 0.6391543\n",
            " 0.62614353 0.62268754 0.63614696 0.65171683 0.67022294 0.68823659\n",
            " 0.70495182 0.72035289 0.73466367 0.74806887 0.76067632 0.77254844\n",
            " 0.78374261 0.79432988 0.80439198 0.81401038 0.82325602 0.83218277\n",
            " 0.84082681 0.84920925 0.85734004 0.86522162 0.87285334 0.88023394\n",
            " 0.88736284 0.89424109 0.90087217 0.90726012]\n",
            "26 day output [[0.91341066]]\n",
            "27 day input [0.79670665 0.80585485 0.7889815  0.78003659 0.73978451 0.73002643\n",
            " 0.73490547 0.74872942 0.75991055 0.75462492 0.75401504 0.76174019\n",
            " 0.7737345  0.82008538 0.80585485 0.81154706 0.77434438 0.78633869\n",
            " 0.79284407 0.78328929 0.77109169 0.74385038 0.71193332 0.68733482\n",
            " 0.67818662 0.65257166 0.64301687 0.65643423 0.67656028 0.67371417\n",
            " 0.65114861 0.65521447 0.66761537 0.67838992 0.69993901 0.63122586\n",
            " 0.63508843 0.64098394 0.64545639 0.64118723 0.63854442 0.63081927\n",
            " 0.62472047 0.6330555  0.64728603 0.6574507  0.66761537 0.66720878\n",
            " 0.64159382 0.62776987 0.63651149 0.63630819 0.62980281 0.62817646\n",
            " 0.63813783 0.65358813 0.63183574 0.57653995 0.57816629 0.57613336\n",
            " 0.61943484 0.57979264 0.57288067 0.62573694 0.63102257 0.6361049\n",
            " 0.62776987 0.6269567  0.63590161 0.62594023 0.6391543  0.62614353\n",
            " 0.62268754 0.63614696 0.65171683 0.67022294 0.68823659 0.70495182\n",
            " 0.72035289 0.73466367 0.74806887 0.76067632 0.77254844 0.78374261\n",
            " 0.79432988 0.80439198 0.81401038 0.82325602 0.83218277 0.84082681\n",
            " 0.84920925 0.85734004 0.86522162 0.87285334 0.88023394 0.88736284\n",
            " 0.89424109 0.90087217 0.90726012 0.91341066]\n",
            "27 day output [[0.9193301]]\n",
            "28 day input [0.80585485 0.7889815  0.78003659 0.73978451 0.73002643 0.73490547\n",
            " 0.74872942 0.75991055 0.75462492 0.75401504 0.76174019 0.7737345\n",
            " 0.82008538 0.80585485 0.81154706 0.77434438 0.78633869 0.79284407\n",
            " 0.78328929 0.77109169 0.74385038 0.71193332 0.68733482 0.67818662\n",
            " 0.65257166 0.64301687 0.65643423 0.67656028 0.67371417 0.65114861\n",
            " 0.65521447 0.66761537 0.67838992 0.69993901 0.63122586 0.63508843\n",
            " 0.64098394 0.64545639 0.64118723 0.63854442 0.63081927 0.62472047\n",
            " 0.6330555  0.64728603 0.6574507  0.66761537 0.66720878 0.64159382\n",
            " 0.62776987 0.63651149 0.63630819 0.62980281 0.62817646 0.63813783\n",
            " 0.65358813 0.63183574 0.57653995 0.57816629 0.57613336 0.61943484\n",
            " 0.57979264 0.57288067 0.62573694 0.63102257 0.6361049  0.62776987\n",
            " 0.6269567  0.63590161 0.62594023 0.6391543  0.62614353 0.62268754\n",
            " 0.63614696 0.65171683 0.67022294 0.68823659 0.70495182 0.72035289\n",
            " 0.73466367 0.74806887 0.76067632 0.77254844 0.78374261 0.79432988\n",
            " 0.80439198 0.81401038 0.82325602 0.83218277 0.84082681 0.84920925\n",
            " 0.85734004 0.86522162 0.87285334 0.88023394 0.88736284 0.89424109\n",
            " 0.90087217 0.90726012 0.91341066 0.91933012]\n",
            "28 day output [[0.9250247]]\n",
            "29 day input [0.7889815  0.78003659 0.73978451 0.73002643 0.73490547 0.74872942\n",
            " 0.75991055 0.75462492 0.75401504 0.76174019 0.7737345  0.82008538\n",
            " 0.80585485 0.81154706 0.77434438 0.78633869 0.79284407 0.78328929\n",
            " 0.77109169 0.74385038 0.71193332 0.68733482 0.67818662 0.65257166\n",
            " 0.64301687 0.65643423 0.67656028 0.67371417 0.65114861 0.65521447\n",
            " 0.66761537 0.67838992 0.69993901 0.63122586 0.63508843 0.64098394\n",
            " 0.64545639 0.64118723 0.63854442 0.63081927 0.62472047 0.6330555\n",
            " 0.64728603 0.6574507  0.66761537 0.66720878 0.64159382 0.62776987\n",
            " 0.63651149 0.63630819 0.62980281 0.62817646 0.63813783 0.65358813\n",
            " 0.63183574 0.57653995 0.57816629 0.57613336 0.61943484 0.57979264\n",
            " 0.57288067 0.62573694 0.63102257 0.6361049  0.62776987 0.6269567\n",
            " 0.63590161 0.62594023 0.6391543  0.62614353 0.62268754 0.63614696\n",
            " 0.65171683 0.67022294 0.68823659 0.70495182 0.72035289 0.73466367\n",
            " 0.74806887 0.76067632 0.77254844 0.78374261 0.79432988 0.80439198\n",
            " 0.81401038 0.82325602 0.83218277 0.84082681 0.84920925 0.85734004\n",
            " 0.86522162 0.87285334 0.88023394 0.88736284 0.89424109 0.90087217\n",
            " 0.90726012 0.91341066 0.91933012 0.92502469]\n",
            "29 day output [[0.93049973]]\n",
            "[[0.6361469626426697], [0.6517168283462524], [0.6702229380607605], [0.6882365942001343], [0.704951822757721], [0.7203528881072998], [0.7346636652946472], [0.7480688691139221], [0.7606763243675232], [0.7725484371185303], [0.7837426066398621], [0.7943298816680908], [0.8043919801712036], [0.8140103816986084], [0.8232560157775879], [0.832182765007019], [0.8408268094062805], [0.8492092490196228], [0.8573400378227234], [0.8652216196060181], [0.8728533387184143], [0.8802339434623718], [0.8873628377914429], [0.8942410945892334], [0.9008721709251404], [0.9072601199150085], [0.9134106636047363], [0.9193301200866699], [0.925024688243866], [0.9304997324943542]]\n"
          ],
          "name": "stdout"
        }
      ]
    },
    {
      "cell_type": "code",
      "metadata": {
        "id": "kYKVv48afebJ"
      },
      "source": [
        "day_new=np.arange(1,101)\n",
        "day_pred=np.arange(101,131) #for 30 days prediction"
      ],
      "execution_count": 26,
      "outputs": []
    },
    {
      "cell_type": "code",
      "metadata": {
        "colab": {
          "base_uri": "https://localhost:8080/"
        },
        "id": "l88fLBfQfzm0",
        "outputId": "c8459076-ebcd-4ddd-c2dd-59b788da91c3"
      },
      "source": [
        "import matplotlib.pyplot as plt\n",
        "len(dd)"
      ],
      "execution_count": 27,
      "outputs": [
        {
          "output_type": "execute_result",
          "data": {
            "text/plain": [
              "2035"
            ]
          },
          "metadata": {},
          "execution_count": 27
        }
      ]
    },
    {
      "cell_type": "code",
      "metadata": {
        "colab": {
          "base_uri": "https://localhost:8080/",
          "height": 282
        },
        "id": "rV50ru63f4RI",
        "outputId": "bbfb5ce1-3c62-4b6e-c733-5655ef2bcefc"
      },
      "source": [
        "#Plotting the previous data and predicted data\n",
        "plt.plot(day_new,sc.inverse_transform(dd[1935:]))\n",
        "plt.plot(day_pred,sc.inverse_transform(l_output))"
      ],
      "execution_count": 28,
      "outputs": [
        {
          "output_type": "execute_result",
          "data": {
            "text/plain": [
              "[<matplotlib.lines.Line2D at 0x7fac7eab2090>]"
            ]
          },
          "metadata": {},
          "execution_count": 28
        },
        {
          "output_type": "display_data",
          "data": {
            "image/png": "[encoded data removed]",
            "text/plain": [
              "<Figure size 432x288 with 1 Axes>"
            ]
          },
          "metadata": {
            "needs_background": "light"
          }
        }
      ]
    },
    {
      "cell_type": "code",
      "metadata": {
        "colab": {
          "base_uri": "https://localhost:8080/",
          "height": 282
        },
        "id": "hBBR_SDIf8IU",
        "outputId": "289fadb5-eb2c-4d28-82d0-5d17b14d6806"
      },
      "source": [
        "#Complete output of prediction.\n",
        "d2=dd.tolist()\n",
        "d2.extend(l_output)\n",
        "plt.plot(d2[1500:])\n",
        "#smooth line is our prediction"
      ],
      "execution_count": 29,
      "outputs": [
        {
          "output_type": "execute_result",
          "data": {
            "text/plain": [
              "[<matplotlib.lines.Line2D at 0x7fac7eac2ad0>]"
            ]
          },
          "metadata": {},
          "execution_count": 29
        },
        {
          "output_type": "display_data",
          "data": {
            "image/png": "[encoded data removed]",
            "text/plain": [
              "<Figure size 432x288 with 1 Axes>"
            ]
          },
          "metadata": {
            "needs_background": "light"
          }
        }
      ]
    }
  ]
}